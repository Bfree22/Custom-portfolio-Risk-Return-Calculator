{
 "cells": [
  {
   "cell_type": "code",
   "execution_count": 50,
   "metadata": {},
   "outputs": [
    {
     "data": {
      "text/plain": [
       "True"
      ]
     },
     "execution_count": 50,
     "metadata": {},
     "output_type": "execute_result"
    }
   ],
   "source": [
    "import os\n",
    "import pandas as pd\n",
    "import requests\n",
    "import json\n",
    "import csv\n",
    "import pprint \n",
    "from dotenv import load_dotenv\n",
    "load_dotenv()"
   ]
  },
  {
   "cell_type": "code",
   "execution_count": 51,
   "metadata": {},
   "outputs": [],
   "source": [
    "key=os.getenv(\"COINMARKETCAP_API_KEY\") "
   ]
  },
  {
   "cell_type": "code",
   "execution_count": 52,
   "metadata": {},
   "outputs": [
    {
     "data": {
      "text/plain": [
       "str"
      ]
     },
     "execution_count": 52,
     "metadata": {},
     "output_type": "execute_result"
    }
   ],
   "source": [
    "type(key)\n"
   ]
  },
  {
   "cell_type": "code",
   "execution_count": 53,
   "metadata": {},
   "outputs": [],
   "source": [
    "headers= {\n",
    "    \"X-CMC_PRO_API_KEY\" : key,\n",
    "    \"Accepts\" : 'application/json'\n",
    "    \n",
    "}\n",
    "params = {\n",
    "    \n",
    "    'start' : '1',\n",
    "    'limit' : '5',\n",
    "    'convert': 'USD'\n",
    "}\n"
   ]
  },
  {
   "cell_type": "code",
   "execution_count": 54,
   "metadata": {},
   "outputs": [],
   "source": [
    "url ='https://pro-api.coinmarketcap.com/v1/cryptocurrency/listings/latest'"
   ]
  },
  {
   "cell_type": "code",
   "execution_count": 55,
   "metadata": {},
   "outputs": [],
   "source": [
    "json_out = requests.get(url,params=params,headers=headers).json()"
   ]
  },
  {
   "cell_type": "code",
   "execution_count": 56,
   "metadata": {},
   "outputs": [
    {
     "name": "stdout",
     "output_type": "stream",
     "text": [
      "{'status': {'timestamp': '2021-05-26T19:45:37.938Z', 'error_code': 0, 'error_message': None, 'elapsed': 16, 'credit_count': 1, 'notice': None, 'total_count': 5344}, 'data': [{'id': 1, 'name': 'Bitcoin', 'symbol': 'BTC', 'slug': 'bitcoin', 'num_market_pairs': 9598, 'date_added': '2013-04-28T00:00:00.000Z', 'tags': ['mineable', 'pow', 'sha-256', 'store-of-value', 'state-channels', 'coinbase-ventures-portfolio', 'three-arrows-capital-portfolio', 'polychain-capital-portfolio', 'binance-labs-portfolio', 'arrington-xrp-capital', 'blockchain-capital-portfolio', 'boostvc-portfolio', 'cms-holdings-portfolio', 'dcg-portfolio', 'dragonfly-capital-portfolio', 'electric-capital-portfolio', 'fabric-ventures-portfolio', 'framework-ventures', 'galaxy-digital-portfolio', 'huobi-capital', 'alameda-research-portfolio', 'a16z-portfolio', '1confirmation-portfolio', 'winklevoss-capital', 'usv-portfolio', 'placeholder-ventures-portfolio', 'pantera-capital-portfolio', 'multicoin-capital-portfolio', 'paradigm-xzy-screener'], 'max_supply': 21000000, 'circulating_supply': 18719087, 'total_supply': 18719087, 'platform': None, 'cmc_rank': 1, 'last_updated': '2021-05-26T19:45:02.000Z', 'quote': {'USD': {'price': 38310.06986880765, 'volume_24h': 51450566075.01234, 'percent_change_1h': -1.12817064, 'percent_change_24h': 1.27687054, 'percent_change_7d': -2.13245705, 'percent_change_30d': -28.85101161, 'percent_change_60d': -31.53458349, 'percent_change_90d': -22.92378405, 'market_cap': 717129530850.2891, 'last_updated': '2021-05-26T19:45:02.000Z'}}}, {'id': 1027, 'name': 'Ethereum', 'symbol': 'ETH', 'slug': 'ethereum', 'num_market_pairs': 5978, 'date_added': '2015-08-07T00:00:00.000Z', 'tags': ['mineable', 'pow', 'smart-contracts', 'ethereum', 'coinbase-ventures-portfolio', 'three-arrows-capital-portfolio', 'polychain-capital-portfolio', 'binance-labs-portfolio', 'arrington-xrp-capital', 'blockchain-capital-portfolio', 'boostvc-portfolio', 'cms-holdings-portfolio', 'dcg-portfolio', 'dragonfly-capital-portfolio', 'electric-capital-portfolio', 'fabric-ventures-portfolio', 'framework-ventures', 'hashkey-capital-portfolio', 'kinetic-capital', 'huobi-capital', 'alameda-research-portfolio', 'a16z-portfolio', '1confirmation-portfolio', 'winklevoss-capital', 'usv-portfolio', 'placeholder-ventures-portfolio', 'pantera-capital-portfolio', 'multicoin-capital-portfolio', 'paradigm-xzy-screener'], 'max_supply': None, 'circulating_supply': 116035034.374, 'total_supply': 116035034.374, 'platform': None, 'cmc_rank': 2, 'last_updated': '2021-05-26T19:45:02.000Z', 'quote': {'USD': {'price': 2726.708250949693, 'volume_24h': 42332320691.5808, 'percent_change_1h': -0.47033035, 'percent_change_24h': 5.45399342, 'percent_change_7d': 3.84493434, 'percent_change_30d': 9.62116215, 'percent_change_60d': 59.45032233, 'percent_change_90d': 71.26504459, 'market_cap': 316393685626.8171, 'last_updated': '2021-05-26T19:45:02.000Z'}}}, {'id': 825, 'name': 'Tether', 'symbol': 'USDT', 'slug': 'tether', 'num_market_pairs': 13119, 'date_added': '2015-02-25T00:00:00.000Z', 'tags': ['store-of-value', 'payments', 'stablecoin', 'stablecoin-asset-backed', 'solana-ecosystem'], 'max_supply': None, 'circulating_supply': 60706893041.45168, 'total_supply': 62476291004.32977, 'platform': {'id': 1027, 'name': 'Ethereum', 'symbol': 'ETH', 'slug': 'ethereum', 'token_address': '0xdac17f958d2ee523a2206206994597c13d831ec7'}, 'cmc_rank': 3, 'last_updated': '2021-05-26T19:44:11.000Z', 'quote': {'USD': {'price': 1.00187752545402, 'volume_24h': 116462626140.99438, 'percent_change_1h': 0.00611048, 'percent_change_24h': -0.00417217, 'percent_change_7d': 0.02147064, 'percent_change_30d': 0.19664304, 'percent_change_60d': 0.10397609, 'percent_change_90d': 0.13589075, 'market_cap': 60820871778.371475, 'last_updated': '2021-05-26T19:44:11.000Z'}}}, {'id': 1839, 'name': 'Binance Coin', 'symbol': 'BNB', 'slug': 'binance-coin', 'num_market_pairs': 603, 'date_added': '2017-07-25T00:00:00.000Z', 'tags': ['marketplace', 'centralized-exchange', 'payments', 'binance-smart-chain', 'alameda-research-portfolio', 'multicoin-capital-portfolio'], 'max_supply': 170532785, 'circulating_supply': 153432897, 'total_supply': 169432897, 'platform': None, 'cmc_rank': 4, 'last_updated': '2021-05-26T19:44:10.000Z', 'quote': {'USD': {'price': 361.6978094038735, 'volume_24h': 4501653974.350747, 'percent_change_1h': -1.83450696, 'percent_change_24h': 9.17324094, 'percent_change_7d': -6.37587935, 'percent_change_30d': -32.66314351, 'percent_change_60d': 36.95499206, 'percent_change_90d': 45.97119648, 'market_cap': 55496342735.39016, 'last_updated': '2021-05-26T19:44:10.000Z'}}}, {'id': 2010, 'name': 'Cardano', 'symbol': 'ADA', 'slug': 'cardano', 'num_market_pairs': 265, 'date_added': '2017-10-01T00:00:00.000Z', 'tags': ['mineable', 'dpos', 'pos', 'platform', 'research', 'smart-contracts', 'staking', 'binance-chain'], 'max_supply': 45000000000, 'circulating_supply': 31948309440.7478, 'total_supply': 45000000000, 'platform': None, 'cmc_rank': 5, 'last_updated': '2021-05-26T19:44:12.000Z', 'quote': {'USD': {'price': 1.70400233149339, 'volume_24h': 6457585429.05599, 'percent_change_1h': -1.43712098, 'percent_change_24h': 11.57140142, 'percent_change_7d': 4.07150675, 'percent_change_30d': 38.17595574, 'percent_change_60d': 43.79759713, 'percent_change_90d': 50.35616304, 'market_cap': 54439993774.30653, 'last_updated': '2021-05-26T19:44:12.000Z'}}}]}\n"
     ]
    }
   ],
   "source": [
    "print(json_out)"
   ]
  },
  {
   "cell_type": "code",
   "execution_count": 64,
   "metadata": {},
   "outputs": [],
   "source": [
    "new_string= json.dumps(json_out,indent =2)"
   ]
  },
  {
   "cell_type": "code",
   "execution_count": 65,
   "metadata": {},
   "outputs": [
    {
     "name": "stdout",
     "output_type": "stream",
     "text": [
      "{\n",
      "  \"status\": {\n",
      "    \"timestamp\": \"2021-05-26T19:45:37.938Z\",\n",
      "    \"error_code\": 0,\n",
      "    \"error_message\": null,\n",
      "    \"elapsed\": 16,\n",
      "    \"credit_count\": 1,\n",
      "    \"notice\": null,\n",
      "    \"total_count\": 5344\n",
      "  },\n",
      "  \"data\": [\n",
      "    {\n",
      "      \"id\": 1,\n",
      "      \"name\": \"Bitcoin\",\n",
      "      \"symbol\": \"BTC\",\n",
      "      \"slug\": \"bitcoin\",\n",
      "      \"num_market_pairs\": 9598,\n",
      "      \"date_added\": \"2013-04-28T00:00:00.000Z\",\n",
      "      \"tags\": [\n",
      "        \"mineable\",\n",
      "        \"pow\",\n",
      "        \"sha-256\",\n",
      "        \"store-of-value\",\n",
      "        \"state-channels\",\n",
      "        \"coinbase-ventures-portfolio\",\n",
      "        \"three-arrows-capital-portfolio\",\n",
      "        \"polychain-capital-portfolio\",\n",
      "        \"binance-labs-portfolio\",\n",
      "        \"arrington-xrp-capital\",\n",
      "        \"blockchain-capital-portfolio\",\n",
      "        \"boostvc-portfolio\",\n",
      "        \"cms-holdings-portfolio\",\n",
      "        \"dcg-portfolio\",\n",
      "        \"dragonfly-capital-portfolio\",\n",
      "        \"electric-capital-portfolio\",\n",
      "        \"fabric-ventures-portfolio\",\n",
      "        \"framework-ventures\",\n",
      "        \"galaxy-digital-portfolio\",\n",
      "        \"huobi-capital\",\n",
      "        \"alameda-research-portfolio\",\n",
      "        \"a16z-portfolio\",\n",
      "        \"1confirmation-portfolio\",\n",
      "        \"winklevoss-capital\",\n",
      "        \"usv-portfolio\",\n",
      "        \"placeholder-ventures-portfolio\",\n",
      "        \"pantera-capital-portfolio\",\n",
      "        \"multicoin-capital-portfolio\",\n",
      "        \"paradigm-xzy-screener\"\n",
      "      ],\n",
      "      \"max_supply\": 21000000,\n",
      "      \"circulating_supply\": 18719087,\n",
      "      \"total_supply\": 18719087,\n",
      "      \"platform\": null,\n",
      "      \"cmc_rank\": 1,\n",
      "      \"last_updated\": \"2021-05-26T19:45:02.000Z\",\n",
      "      \"quote\": {\n",
      "        \"USD\": {\n",
      "          \"price\": 38310.06986880765,\n",
      "          \"volume_24h\": 51450566075.01234,\n",
      "          \"percent_change_1h\": -1.12817064,\n",
      "          \"percent_change_24h\": 1.27687054,\n",
      "          \"percent_change_7d\": -2.13245705,\n",
      "          \"percent_change_30d\": -28.85101161,\n",
      "          \"percent_change_60d\": -31.53458349,\n",
      "          \"percent_change_90d\": -22.92378405,\n",
      "          \"market_cap\": 717129530850.2891,\n",
      "          \"last_updated\": \"2021-05-26T19:45:02.000Z\"\n",
      "        }\n",
      "      }\n",
      "    },\n",
      "    {\n",
      "      \"id\": 1027,\n",
      "      \"name\": \"Ethereum\",\n",
      "      \"symbol\": \"ETH\",\n",
      "      \"slug\": \"ethereum\",\n",
      "      \"num_market_pairs\": 5978,\n",
      "      \"date_added\": \"2015-08-07T00:00:00.000Z\",\n",
      "      \"tags\": [\n",
      "        \"mineable\",\n",
      "        \"pow\",\n",
      "        \"smart-contracts\",\n",
      "        \"ethereum\",\n",
      "        \"coinbase-ventures-portfolio\",\n",
      "        \"three-arrows-capital-portfolio\",\n",
      "        \"polychain-capital-portfolio\",\n",
      "        \"binance-labs-portfolio\",\n",
      "        \"arrington-xrp-capital\",\n",
      "        \"blockchain-capital-portfolio\",\n",
      "        \"boostvc-portfolio\",\n",
      "        \"cms-holdings-portfolio\",\n",
      "        \"dcg-portfolio\",\n",
      "        \"dragonfly-capital-portfolio\",\n",
      "        \"electric-capital-portfolio\",\n",
      "        \"fabric-ventures-portfolio\",\n",
      "        \"framework-ventures\",\n",
      "        \"hashkey-capital-portfolio\",\n",
      "        \"kinetic-capital\",\n",
      "        \"huobi-capital\",\n",
      "        \"alameda-research-portfolio\",\n",
      "        \"a16z-portfolio\",\n",
      "        \"1confirmation-portfolio\",\n",
      "        \"winklevoss-capital\",\n",
      "        \"usv-portfolio\",\n",
      "        \"placeholder-ventures-portfolio\",\n",
      "        \"pantera-capital-portfolio\",\n",
      "        \"multicoin-capital-portfolio\",\n",
      "        \"paradigm-xzy-screener\"\n",
      "      ],\n",
      "      \"max_supply\": null,\n",
      "      \"circulating_supply\": 116035034.374,\n",
      "      \"total_supply\": 116035034.374,\n",
      "      \"platform\": null,\n",
      "      \"cmc_rank\": 2,\n",
      "      \"last_updated\": \"2021-05-26T19:45:02.000Z\",\n",
      "      \"quote\": {\n",
      "        \"USD\": {\n",
      "          \"price\": 2726.708250949693,\n",
      "          \"volume_24h\": 42332320691.5808,\n",
      "          \"percent_change_1h\": -0.47033035,\n",
      "          \"percent_change_24h\": 5.45399342,\n",
      "          \"percent_change_7d\": 3.84493434,\n",
      "          \"percent_change_30d\": 9.62116215,\n",
      "          \"percent_change_60d\": 59.45032233,\n",
      "          \"percent_change_90d\": 71.26504459,\n",
      "          \"market_cap\": 316393685626.8171,\n",
      "          \"last_updated\": \"2021-05-26T19:45:02.000Z\"\n",
      "        }\n",
      "      }\n",
      "    },\n",
      "    {\n",
      "      \"id\": 825,\n",
      "      \"name\": \"Tether\",\n",
      "      \"symbol\": \"USDT\",\n",
      "      \"slug\": \"tether\",\n",
      "      \"num_market_pairs\": 13119,\n",
      "      \"date_added\": \"2015-02-25T00:00:00.000Z\",\n",
      "      \"tags\": [\n",
      "        \"store-of-value\",\n",
      "        \"payments\",\n",
      "        \"stablecoin\",\n",
      "        \"stablecoin-asset-backed\",\n",
      "        \"solana-ecosystem\"\n",
      "      ],\n",
      "      \"max_supply\": null,\n",
      "      \"circulating_supply\": 60706893041.45168,\n",
      "      \"total_supply\": 62476291004.32977,\n",
      "      \"platform\": {\n",
      "        \"id\": 1027,\n",
      "        \"name\": \"Ethereum\",\n",
      "        \"symbol\": \"ETH\",\n",
      "        \"slug\": \"ethereum\",\n",
      "        \"token_address\": \"0xdac17f958d2ee523a2206206994597c13d831ec7\"\n",
      "      },\n",
      "      \"cmc_rank\": 3,\n",
      "      \"last_updated\": \"2021-05-26T19:44:11.000Z\",\n",
      "      \"quote\": {\n",
      "        \"USD\": {\n",
      "          \"price\": 1.00187752545402,\n",
      "          \"volume_24h\": 116462626140.99438,\n",
      "          \"percent_change_1h\": 0.00611048,\n",
      "          \"percent_change_24h\": -0.00417217,\n",
      "          \"percent_change_7d\": 0.02147064,\n",
      "          \"percent_change_30d\": 0.19664304,\n",
      "          \"percent_change_60d\": 0.10397609,\n",
      "          \"percent_change_90d\": 0.13589075,\n",
      "          \"market_cap\": 60820871778.371475,\n",
      "          \"last_updated\": \"2021-05-26T19:44:11.000Z\"\n",
      "        }\n",
      "      }\n",
      "    },\n",
      "    {\n",
      "      \"id\": 1839,\n",
      "      \"name\": \"Binance Coin\",\n",
      "      \"symbol\": \"BNB\",\n",
      "      \"slug\": \"binance-coin\",\n",
      "      \"num_market_pairs\": 603,\n",
      "      \"date_added\": \"2017-07-25T00:00:00.000Z\",\n",
      "      \"tags\": [\n",
      "        \"marketplace\",\n",
      "        \"centralized-exchange\",\n",
      "        \"payments\",\n",
      "        \"binance-smart-chain\",\n",
      "        \"alameda-research-portfolio\",\n",
      "        \"multicoin-capital-portfolio\"\n",
      "      ],\n",
      "      \"max_supply\": 170532785,\n",
      "      \"circulating_supply\": 153432897,\n",
      "      \"total_supply\": 169432897,\n",
      "      \"platform\": null,\n",
      "      \"cmc_rank\": 4,\n",
      "      \"last_updated\": \"2021-05-26T19:44:10.000Z\",\n",
      "      \"quote\": {\n",
      "        \"USD\": {\n",
      "          \"price\": 361.6978094038735,\n",
      "          \"volume_24h\": 4501653974.350747,\n",
      "          \"percent_change_1h\": -1.83450696,\n",
      "          \"percent_change_24h\": 9.17324094,\n",
      "          \"percent_change_7d\": -6.37587935,\n",
      "          \"percent_change_30d\": -32.66314351,\n",
      "          \"percent_change_60d\": 36.95499206,\n",
      "          \"percent_change_90d\": 45.97119648,\n",
      "          \"market_cap\": 55496342735.39016,\n",
      "          \"last_updated\": \"2021-05-26T19:44:10.000Z\"\n",
      "        }\n",
      "      }\n",
      "    },\n",
      "    {\n",
      "      \"id\": 2010,\n",
      "      \"name\": \"Cardano\",\n",
      "      \"symbol\": \"ADA\",\n",
      "      \"slug\": \"cardano\",\n",
      "      \"num_market_pairs\": 265,\n",
      "      \"date_added\": \"2017-10-01T00:00:00.000Z\",\n",
      "      \"tags\": [\n",
      "        \"mineable\",\n",
      "        \"dpos\",\n",
      "        \"pos\",\n",
      "        \"platform\",\n",
      "        \"research\",\n",
      "        \"smart-contracts\",\n",
      "        \"staking\",\n",
      "        \"binance-chain\"\n",
      "      ],\n",
      "      \"max_supply\": 45000000000,\n",
      "      \"circulating_supply\": 31948309440.7478,\n",
      "      \"total_supply\": 45000000000,\n",
      "      \"platform\": null,\n",
      "      \"cmc_rank\": 5,\n",
      "      \"last_updated\": \"2021-05-26T19:44:12.000Z\",\n",
      "      \"quote\": {\n",
      "        \"USD\": {\n",
      "          \"price\": 1.70400233149339,\n",
      "          \"volume_24h\": 6457585429.05599,\n",
      "          \"percent_change_1h\": -1.43712098,\n",
      "          \"percent_change_24h\": 11.57140142,\n",
      "          \"percent_change_7d\": 4.07150675,\n",
      "          \"percent_change_30d\": 38.17595574,\n",
      "          \"percent_change_60d\": 43.79759713,\n",
      "          \"percent_change_90d\": 50.35616304,\n",
      "          \"market_cap\": 54439993774.30653,\n",
      "          \"last_updated\": \"2021-05-26T19:44:12.000Z\"\n",
      "        }\n",
      "      }\n",
      "    }\n",
      "  ]\n",
      "}\n"
     ]
    }
   ],
   "source": [
    "print(new_string)"
   ]
  },
  {
   "cell_type": "code",
   "execution_count": 58,
   "metadata": {},
   "outputs": [],
   "source": [
    "coins = json_out['data']  # testing for coin prices\n"
   ]
  },
  {
   "cell_type": "code",
   "execution_count": 59,
   "metadata": {},
   "outputs": [
    {
     "name": "stdout",
     "output_type": "stream",
     "text": [
      "BTC 38310.06986880765\n",
      "ETH 2726.708250949693\n",
      "USDT 1.00187752545402\n",
      "BNB 361.6978094038735\n",
      "ADA 1.70400233149339\n"
     ]
    }
   ],
   "source": [
    "for x in coins:\n",
    "    print(x['symbol'], x['quote']['USD']['price'])"
   ]
  },
  {
   "cell_type": "code",
   "execution_count": 67,
   "metadata": {},
   "outputs": [],
   "source": [
    "with open ('new_json.json', 'w') as f: ## dumping json to a file\n",
    "    json.dump(json_out, f, indent=2)"
   ]
  },
  {
   "cell_type": "code",
   "execution_count": 72,
   "metadata": {},
   "outputs": [],
   "source": [
    "fname=\"output.csv\"  ## parsing from json to csv\n",
    "with open(fname, \"w\") as file:\n",
    "    csv_file = csv.writer(file)\n",
    "    csv_file.writerow([\"Currency\",\"Date\",\"Closing Price (USD)\",\"percent_change_24h\",\"percent_change_30d\",\"market_cap\"])\n",
    "    for item in json_out[\"data\"]:\n",
    "        csv_file.writerow([item[\"name\"],item['last_updated'],item['quote']['USD']['price'],item['quote']['USD'][\"percent_change_24h\"],item['quote']['USD'][\"percent_change_24h\"], item ['quote']['USD'][\"percent_change_30d\"],item['quote']['USD'][\"market_cap\"]])\n",
    "     "
   ]
  },
  {
   "cell_type": "code",
   "execution_count": null,
   "metadata": {},
   "outputs": [],
   "source": []
  },
  {
   "cell_type": "code",
   "execution_count": null,
   "metadata": {},
   "outputs": [],
   "source": []
  }
 ],
 "metadata": {
  "kernelspec": {
   "display_name": "Python 3",
   "language": "python",
   "name": "python3"
  },
  "language_info": {
   "codemirror_mode": {
    "name": "ipython",
    "version": 3
   },
   "file_extension": ".py",
   "mimetype": "text/x-python",
   "name": "python",
   "nbconvert_exporter": "python",
   "pygments_lexer": "ipython3",
   "version": "3.8.5"
  }
 },
 "nbformat": 4,
 "nbformat_minor": 4
}
