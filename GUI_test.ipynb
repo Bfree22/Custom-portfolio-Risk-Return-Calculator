{
 "cells": [
  {
   "cell_type": "code",
   "execution_count": 5,
   "metadata": {},
   "outputs": [],
   "source": [
    "import requests\n",
    "from dotenv import load_dotenv\n",
    "import yfinance as yf\n",
    "import alpaca_trade_api as tradeapi\n",
    "import pandas as pd\n",
    "import numpy as np\n"
   ]
  },
  {
   "cell_type": "code",
   "execution_count": 6,
   "metadata": {},
   "outputs": [],
   "source": [
    "import panel as pn\n",
    "pn.extension('plotly')\n",
    "import plotly.express as px\n",
    "import matplotlib.pyplot as plt\n",
    "from pathlib import Path\n",
    "import hvplot.pandas\n",
    "import seaborn as sns\n",
    "import tkinter \n",
    "import panel as pn\n",
    "pn.extension()"
   ]
  },
  {
   "cell_type": "code",
   "execution_count": 27,
   "metadata": {},
   "outputs": [
    {
     "name": "stdout",
     "output_type": "stream",
     "text": [
      "Pls enter amount to invest in $ 15623\n"
     ]
    },
    {
     "data": {
      "text/plain": [
       "'Thank you! 15623 $ being applied to your account'"
      ]
     },
     "execution_count": 27,
     "metadata": {},
     "output_type": "execute_result"
    }
   ],
   "source": [
    "## Collecting data for investment\n",
    "\n",
    "inv_amt= input (f'Pls enter amount to invest in $ ')\n",
    "f'Thank you! {inv_amt} $ being applied to your account'\n"
   ]
  },
  {
   "cell_type": "code",
   "execution_count": 9,
   "metadata": {},
   "outputs": [
    {
     "name": "stdout",
     "output_type": "stream",
     "text": [
      "1\n"
     ]
    }
   ],
   "source": [
    "## Using a GUI to capture Risk\n",
    "\n",
    "corr = 0\n",
    "\n",
    "def Min():\n",
    "    corr = 1\n",
    "    print(corr)\n",
    "\n",
    "def Mod():\n",
    "    corr = .7\n",
    "    print(corr)\n",
    "\n",
    "def Max():\n",
    "    corr = .3\n",
    "    print(corr)\n",
    "\n",
    "window = tkinter.Tk()\n",
    "\n",
    "label = tkinter.Label(window, text=\"Please slecte your risk level?\")\n",
    "button = tkinter.Button(window, text=\"Min\", command=Min)\n",
    "button2 = tkinter.Button(window, text=\"Moderate\", command=Mod)\n",
    "button3 = tkinter.Button(window, text=\"MAximum\", command=Max)\n",
    "\n",
    "label.pack()\n",
    "button.pack()\n",
    "button2.pack()\n",
    "button3.pack()\n",
    "window.mainloop()"
   ]
  },
  {
   "cell_type": "code",
   "execution_count": null,
   "metadata": {},
   "outputs": [],
   "source": []
  },
  {
   "cell_type": "code",
   "execution_count": 10,
   "metadata": {},
   "outputs": [],
   "source": [
    "## Establishing risk level using dropdown menu\n",
    "\n",
    "def risk_select():\n",
    "    select = pn.widgets.Select(name='Pls Select your risk level ', options=[\"Max--100% I'm all in Crypto\",\"Moderate--70% Risk 30% Safe\",\"Min--70% Safe 30% Risk\"])\n",
    "    return select\n",
    "\n",
    "## Value of choice is stored and accessed by select.value stored as a String"
   ]
  },
  {
   "cell_type": "code",
   "execution_count": 11,
   "metadata": {
    "scrolled": true
   },
   "outputs": [
    {
     "data": {},
     "metadata": {},
     "output_type": "display_data"
    },
    {
     "data": {
      "application/vnd.holoviews_exec.v0+json": "",
      "text/html": [
       "<div id='1002'>\n",
       "\n",
       "\n",
       "\n",
       "\n",
       "\n",
       "  <div class=\"bk-root\" id=\"090d0367-e20a-4cb4-b360-6f3910b2199d\" data-root-id=\"1002\"></div>\n",
       "</div>\n",
       "<script type=\"application/javascript\">(function(root) {\n",
       "  function embed_document(root) {\n",
       "    var docs_json = {\"26ca9ec9-77af-461f-8075-dce23efe34dc\":{\"defs\":[],\"roots\":{\"references\":[{\"attributes\":{\"reload\":false},\"id\":\"1004\",\"type\":\"panel.models.location.Location\"},{\"attributes\":{\"margin\":[5,10,5,10],\"options\":[\"Max--100% I'm all in Crypto\",\"Moderate--70% Risk 30% Safe\",\"Min--70% Safe 30% Risk\"],\"title\":\"Pls Select your risk level \",\"value\":\"Max--100% I'm all in Crypto\"},\"id\":\"1002\",\"type\":\"Select\"},{\"attributes\":{\"client_comm_id\":\"d6965f23072b4646b686c7746df71758\",\"comm_id\":\"ae477557270144c991875b01c29e4ba3\",\"plot_id\":\"1002\"},\"id\":\"1003\",\"type\":\"panel.models.comm_manager.CommManager\"}],\"root_ids\":[\"1002\",\"1003\",\"1004\"]},\"title\":\"Bokeh Application\",\"version\":\"2.3.2\"}};\n",
       "    var render_items = [{\"docid\":\"26ca9ec9-77af-461f-8075-dce23efe34dc\",\"root_ids\":[\"1002\"],\"roots\":{\"1002\":\"090d0367-e20a-4cb4-b360-6f3910b2199d\"}}];\n",
       "    root.Bokeh.embed.embed_items_notebook(docs_json, render_items);\n",
       "  }\n",
       "  if (root.Bokeh !== undefined && root.Bokeh.Panel !== undefined && root['Plotly'] !== undefined ) {\n",
       "    embed_document(root);\n",
       "  } else {\n",
       "    var attempts = 0;\n",
       "    var timer = setInterval(function(root) {\n",
       "      if (root.Bokeh !== undefined && root.Bokeh.Panel !== undefined && root['Plotly'] !== undefined) {\n",
       "        clearInterval(timer);\n",
       "        embed_document(root);\n",
       "      } else if (document.readyState == \"complete\") {\n",
       "        attempts++;\n",
       "        if (attempts > 100) {\n",
       "          clearInterval(timer);\n",
       "          console.log(\"Bokeh: ERROR: Unable to run BokehJS code because BokehJS library is missing\");\n",
       "        }\n",
       "      }\n",
       "    }, 10, root)\n",
       "  }\n",
       "})(window);</script>"
      ],
      "text/plain": [
       "Select(name='Pls Select your r..., options=[\"Max--100% I'm all in Cry...], value=\"Max--100% I'm a...)"
      ]
     },
     "execution_count": 11,
     "metadata": {
      "application/vnd.holoviews_exec.v0+json": {
       "id": "1002"
      }
     },
     "output_type": "execute_result"
    }
   ],
   "source": [
    "risk_select()"
   ]
  },
  {
   "cell_type": "code",
   "execution_count": 13,
   "metadata": {},
   "outputs": [
    {
     "ename": "NameError",
     "evalue": "name 'select' is not defined",
     "output_type": "error",
     "traceback": [
      "\u001b[1;31m---------------------------------------------------------------------------\u001b[0m",
      "\u001b[1;31mNameError\u001b[0m                                 Traceback (most recent call last)",
      "\u001b[1;32m<ipython-input-13-79bc9cfe325b>\u001b[0m in \u001b[0;36m<module>\u001b[1;34m\u001b[0m\n\u001b[1;32m----> 1\u001b[1;33m \u001b[0mselect\u001b[0m\u001b[1;33m.\u001b[0m\u001b[0mvalue\u001b[0m\u001b[1;33m(\u001b[0m\u001b[1;33m)\u001b[0m\u001b[1;33m\u001b[0m\u001b[1;33m\u001b[0m\u001b[0m\n\u001b[0m",
      "\u001b[1;31mNameError\u001b[0m: name 'select' is not defined"
     ]
    }
   ],
   "source": [
    "select.value()"
   ]
  },
  {
   "cell_type": "code",
   "execution_count": 15,
   "metadata": {},
   "outputs": [
    {
     "ename": "NameError",
     "evalue": "name 'select' is not defined",
     "output_type": "error",
     "traceback": [
      "\u001b[1;31m---------------------------------------------------------------------------\u001b[0m",
      "\u001b[1;31mNameError\u001b[0m                                 Traceback (most recent call last)",
      "\u001b[1;32m<ipython-input-15-5ad181c0f827>\u001b[0m in \u001b[0;36m<module>\u001b[1;34m\u001b[0m\n\u001b[0;32m      1\u001b[0m \u001b[1;31m## Correlation/Volatility calculator\u001b[0m\u001b[1;33m\u001b[0m\u001b[1;33m\u001b[0m\u001b[1;33m\u001b[0m\u001b[0m\n\u001b[0;32m      2\u001b[0m \u001b[1;31m##print(select.value)\u001b[0m\u001b[1;33m\u001b[0m\u001b[1;33m\u001b[0m\u001b[1;33m\u001b[0m\u001b[0m\n\u001b[1;32m----> 3\u001b[1;33m \u001b[0manswer\u001b[0m\u001b[1;33m=\u001b[0m \u001b[0mselect\u001b[0m\u001b[1;33m.\u001b[0m\u001b[0mvalue\u001b[0m\u001b[1;33m\u001b[0m\u001b[1;33m\u001b[0m\u001b[0m\n\u001b[0m\u001b[0;32m      4\u001b[0m \u001b[0mcorr\u001b[0m\u001b[1;33m=\u001b[0m \u001b[1;36m0\u001b[0m\u001b[1;33m\u001b[0m\u001b[1;33m\u001b[0m\u001b[0m\n\u001b[0;32m      5\u001b[0m \u001b[0mvol\u001b[0m\u001b[1;33m=\u001b[0m \u001b[1;36m0\u001b[0m\u001b[1;33m\u001b[0m\u001b[1;33m\u001b[0m\u001b[0m\n",
      "\u001b[1;31mNameError\u001b[0m: name 'select' is not defined"
     ]
    }
   ],
   "source": [
    "## Correlation/Volatility calculator\n",
    "print(select.value)\n",
    "answer= select.value\n",
    "corr= 0\n",
    "vol= 0\n",
    "\n",
    "def risk_calc(answer) :\n",
    "    if answer == \"Max--100% I'm all in Crypto\" :\n",
    "        corr = 1\n",
    "        vol = 1\n",
    "        print (\"here1\")\n",
    "    elif answer == \"Min--70% Safe 30% Risk\" :\n",
    "        corr = .3\n",
    "        vol = .3\n",
    "        print (\"here2\")\n",
    "    else :\n",
    "        corr= .5\n",
    "        vol = .5\n",
    "        print (\"here\")\n",
    "    return (corr,vol)"
   ]
  },
  {
   "cell_type": "code",
   "execution_count": 16,
   "metadata": {},
   "outputs": [
    {
     "ename": "NameError",
     "evalue": "name 'risk_calc' is not defined",
     "output_type": "error",
     "traceback": [
      "\u001b[1;31m---------------------------------------------------------------------------\u001b[0m",
      "\u001b[1;31mNameError\u001b[0m                                 Traceback (most recent call last)",
      "\u001b[1;32m<ipython-input-16-067d3f6be6aa>\u001b[0m in \u001b[0;36m<module>\u001b[1;34m\u001b[0m\n\u001b[1;32m----> 1\u001b[1;33m \u001b[0mrisk_calc\u001b[0m\u001b[1;33m(\u001b[0m\u001b[0manswer\u001b[0m\u001b[1;33m)\u001b[0m\u001b[1;33m\u001b[0m\u001b[1;33m\u001b[0m\u001b[0m\n\u001b[0m",
      "\u001b[1;31mNameError\u001b[0m: name 'risk_calc' is not defined"
     ]
    }
   ],
   "source": [
    "risk_calc(answer)  \n"
   ]
  },
  {
   "cell_type": "code",
   "execution_count": 17,
   "metadata": {},
   "outputs": [
    {
     "name": "stdout",
     "output_type": "stream",
     "text": [
      "0\n"
     ]
    }
   ],
   "source": [
    "print (corr)"
   ]
  },
  {
   "cell_type": "code",
   "execution_count": 22,
   "metadata": {},
   "outputs": [],
   "source": [
    "###Sider for Risk Level \n",
    "\n",
    "slider = pn.widgets.FloatSlider(name='Pls select your risk levle', width=400)"
   ]
  },
  {
   "cell_type": "code",
   "execution_count": 19,
   "metadata": {},
   "outputs": [],
   "source": [
    "def slider_risk (slider_answer):\n",
    "    if (slider_answer <= .5 ) :\n",
    "        corr = 1\n",
    "        vol = 1\n",
    "        print (\"Min Risk\")\n",
    "    elif (slider_answer >.5 and slider_answer <= .7) :\n",
    "        corr = .3\n",
    "        vol = .3\n",
    "        print (\"Moderate Risk\")\n",
    "    else :\n",
    "        corr= .5\n",
    "        vol = .5\n",
    "        print (\"Max Risk\")\n",
    "    return (corr,vol)"
   ]
  },
  {
   "cell_type": "code",
   "execution_count": 23,
   "metadata": {},
   "outputs": [
    {
     "data": {},
     "metadata": {},
     "output_type": "display_data"
    },
    {
     "data": {
      "application/vnd.holoviews_exec.v0+json": "",
      "text/html": [
       "<div id='1008'>\n",
       "\n",
       "\n",
       "\n",
       "\n",
       "\n",
       "  <div class=\"bk-root\" id=\"8136e512-6a72-4ebb-b69c-747487c34426\" data-root-id=\"1008\"></div>\n",
       "</div>\n",
       "<script type=\"application/javascript\">(function(root) {\n",
       "  function embed_document(root) {\n",
       "    var docs_json = {\"bfd86404-85fb-436f-8f9e-5da4cfd65a29\":{\"defs\":[],\"roots\":{\"references\":[{\"attributes\":{\"children\":[{\"id\":\"1009\"}],\"margin\":[0,0,0,0],\"min_width\":400,\"name\":\"Column01564\",\"width\":400},\"id\":\"1008\",\"type\":\"Column\"},{\"attributes\":{\"end\":1.0,\"margin\":[5,10,5,10],\"min_width\":400,\"start\":0.0,\"step\":0.1,\"title\":\"Pls select your risk levle\",\"value\":0.0,\"width\":400},\"id\":\"1009\",\"type\":\"Slider\"},{\"attributes\":{\"client_comm_id\":\"b476c91aff1b44a2ab45f14e0bfea08b\",\"comm_id\":\"ec1554ef4ced4456a41b4314f114eb8b\",\"plot_id\":\"1008\"},\"id\":\"1010\",\"type\":\"panel.models.comm_manager.CommManager\"}],\"root_ids\":[\"1008\",\"1010\"]},\"title\":\"Bokeh Application\",\"version\":\"2.3.2\"}};\n",
       "    var render_items = [{\"docid\":\"bfd86404-85fb-436f-8f9e-5da4cfd65a29\",\"root_ids\":[\"1008\"],\"roots\":{\"1008\":\"8136e512-6a72-4ebb-b69c-747487c34426\"}}];\n",
       "    root.Bokeh.embed.embed_items_notebook(docs_json, render_items);\n",
       "  }\n",
       "  if (root.Bokeh !== undefined && root.Bokeh.Panel !== undefined && root['Plotly'] !== undefined ) {\n",
       "    embed_document(root);\n",
       "  } else {\n",
       "    var attempts = 0;\n",
       "    var timer = setInterval(function(root) {\n",
       "      if (root.Bokeh !== undefined && root.Bokeh.Panel !== undefined && root['Plotly'] !== undefined) {\n",
       "        clearInterval(timer);\n",
       "        embed_document(root);\n",
       "      } else if (document.readyState == \"complete\") {\n",
       "        attempts++;\n",
       "        if (attempts > 100) {\n",
       "          clearInterval(timer);\n",
       "          console.log(\"Bokeh: ERROR: Unable to run BokehJS code because BokehJS library is missing\");\n",
       "        }\n",
       "      }\n",
       "    }, 10, root)\n",
       "  }\n",
       "})(window);</script>"
      ],
      "text/plain": [
       "Column(width=400)\n",
       "    [0] FloatSlider(name='Pls select your r..., width=400)"
      ]
     },
     "execution_count": 23,
     "metadata": {
      "application/vnd.holoviews_exec.v0+json": {
       "id": "1008"
      }
     },
     "output_type": "execute_result"
    }
   ],
   "source": [
    "pn.Column(slider, width=400) ## Use to control variables \n"
   ]
  },
  {
   "cell_type": "code",
   "execution_count": 26,
   "metadata": {},
   "outputs": [
    {
     "name": "stdout",
     "output_type": "stream",
     "text": [
      "Min Risk\n"
     ]
    },
    {
     "data": {
      "text/plain": [
       "(1, 1)"
      ]
     },
     "execution_count": 26,
     "metadata": {},
     "output_type": "execute_result"
    }
   ],
   "source": [
    "slider_answer=slider.value\n",
    "slider_risk(slider_answer)"
   ]
  },
  {
   "cell_type": "code",
   "execution_count": null,
   "metadata": {},
   "outputs": [],
   "source": []
  }
 ],
 "metadata": {
  "kernelspec": {
   "display_name": "Python 3",
   "language": "python",
   "name": "python3"
  },
  "language_info": {
   "codemirror_mode": {
    "name": "ipython",
    "version": 3
   },
   "file_extension": ".py",
   "mimetype": "text/x-python",
   "name": "python",
   "nbconvert_exporter": "python",
   "pygments_lexer": "ipython3",
   "version": "3.7.9"
  }
 },
 "nbformat": 4,
 "nbformat_minor": 4
}
